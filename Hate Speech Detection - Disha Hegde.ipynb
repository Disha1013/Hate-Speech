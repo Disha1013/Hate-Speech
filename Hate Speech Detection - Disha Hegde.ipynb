{
 "cells": [
  {
   "cell_type": "markdown",
   "metadata": {},
   "source": [
    "### Hate Speech Detection wth own dataset"
   ]
  },
  {
   "cell_type": "code",
   "execution_count": 446,
   "metadata": {},
   "outputs": [],
   "source": [
    "import pandas as pd\n",
    "import numpy as np"
   ]
  },
  {
   "cell_type": "code",
   "execution_count": 447,
   "metadata": {},
   "outputs": [
    {
     "data": {
      "text/html": [
       "<div>\n",
       "<style scoped>\n",
       "    .dataframe tbody tr th:only-of-type {\n",
       "        vertical-align: middle;\n",
       "    }\n",
       "\n",
       "    .dataframe tbody tr th {\n",
       "        vertical-align: top;\n",
       "    }\n",
       "\n",
       "    .dataframe thead th {\n",
       "        text-align: right;\n",
       "    }\n",
       "</style>\n",
       "<table border=\"1\" class=\"dataframe\">\n",
       "  <thead>\n",
       "    <tr style=\"text-align: right;\">\n",
       "      <th></th>\n",
       "      <th>class</th>\n",
       "      <th>tweet</th>\n",
       "    </tr>\n",
       "  </thead>\n",
       "  <tbody>\n",
       "    <tr>\n",
       "      <th>0</th>\n",
       "      <td>noHate</td>\n",
       "      <td>b'At least half of all humans are of below-ave...</td>\n",
       "    </tr>\n",
       "    <tr>\n",
       "      <th>1</th>\n",
       "      <td>noHate</td>\n",
       "      <td>b'Hail Imperium Europae !'</td>\n",
       "    </tr>\n",
       "    <tr>\n",
       "      <th>2</th>\n",
       "      <td>noHate</td>\n",
       "      <td>b'Is this normally what it should be ?'</td>\n",
       "    </tr>\n",
       "    <tr>\n",
       "      <th>3</th>\n",
       "      <td>noHate</td>\n",
       "      <td>b'Stay for Gel test .'</td>\n",
       "    </tr>\n",
       "    <tr>\n",
       "      <th>4</th>\n",
       "      <td>hate</td>\n",
       "      <td>b\"It's weird most Indians dot and to an extent...</td>\n",
       "    </tr>\n",
       "    <tr>\n",
       "      <th>...</th>\n",
       "      <td>...</td>\n",
       "      <td>...</td>\n",
       "    </tr>\n",
       "    <tr>\n",
       "      <th>10698</th>\n",
       "      <td>noHate</td>\n",
       "      <td>b'If that number is correct then it is impress...</td>\n",
       "    </tr>\n",
       "    <tr>\n",
       "      <th>10699</th>\n",
       "      <td>noHate</td>\n",
       "      <td>b'Who TF cares ?'</td>\n",
       "    </tr>\n",
       "    <tr>\n",
       "      <th>10700</th>\n",
       "      <td>noHate</td>\n",
       "      <td>b'She too gets in trouble for speaking up .'</td>\n",
       "    </tr>\n",
       "    <tr>\n",
       "      <th>10701</th>\n",
       "      <td>noHate</td>\n",
       "      <td>b'The white nationalist front has never been p...</td>\n",
       "    </tr>\n",
       "    <tr>\n",
       "      <th>10702</th>\n",
       "      <td>noHate</td>\n",
       "      <td>b'See if anyone you know that knows that you a...</td>\n",
       "    </tr>\n",
       "  </tbody>\n",
       "</table>\n",
       "<p>10703 rows × 2 columns</p>\n",
       "</div>"
      ],
      "text/plain": [
       "        class                                              tweet\n",
       "0      noHate  b'At least half of all humans are of below-ave...\n",
       "1      noHate                         b'Hail Imperium Europae !'\n",
       "2      noHate            b'Is this normally what it should be ?'\n",
       "3      noHate                             b'Stay for Gel test .'\n",
       "4        hate  b\"It's weird most Indians dot and to an extent...\n",
       "...       ...                                                ...\n",
       "10698  noHate  b'If that number is correct then it is impress...\n",
       "10699  noHate                                  b'Who TF cares ?'\n",
       "10700  noHate       b'She too gets in trouble for speaking up .'\n",
       "10701  noHate  b'The white nationalist front has never been p...\n",
       "10702  noHate  b'See if anyone you know that knows that you a...\n",
       "\n",
       "[10703 rows x 2 columns]"
      ]
     },
     "execution_count": 447,
     "metadata": {},
     "output_type": "execute_result"
    }
   ],
   "source": [
    "dataset = pd.read_csv(\"speech.csv\")\n",
    "dataset[[\"class\", \"tweet\"]]"
   ]
  },
  {
   "cell_type": "code",
   "execution_count": 448,
   "metadata": {},
   "outputs": [
    {
     "name": "stdout",
     "output_type": "stream",
     "text": [
      "(9507, 3)\n",
      "(1196, 3)\n"
     ]
    }
   ],
   "source": [
    "# ratio for hate speech to non hate speech is very low\n",
    "print(dataset[dataset[\"class\"]==\"noHate\"].shape)\n",
    "print(dataset[dataset[\"class\"]==\"hate\"].shape)"
   ]
  },
  {
   "cell_type": "code",
   "execution_count": 449,
   "metadata": {},
   "outputs": [
    {
     "data": {
      "text/html": [
       "<div>\n",
       "<style scoped>\n",
       "    .dataframe tbody tr th:only-of-type {\n",
       "        vertical-align: middle;\n",
       "    }\n",
       "\n",
       "    .dataframe tbody tr th {\n",
       "        vertical-align: top;\n",
       "    }\n",
       "\n",
       "    .dataframe thead th {\n",
       "        text-align: right;\n",
       "    }\n",
       "</style>\n",
       "<table border=\"1\" class=\"dataframe\">\n",
       "  <thead>\n",
       "    <tr style=\"text-align: right;\">\n",
       "      <th></th>\n",
       "      <th>Unnamed: 0</th>\n",
       "      <th>tweet</th>\n",
       "      <th>class</th>\n",
       "    </tr>\n",
       "  </thead>\n",
       "  <tbody>\n",
       "    <tr>\n",
       "      <th>4</th>\n",
       "      <td>4</td>\n",
       "      <td>b\"It's weird most Indians dot and to an extent...</td>\n",
       "      <td>hate</td>\n",
       "    </tr>\n",
       "    <tr>\n",
       "      <th>15</th>\n",
       "      <td>15</td>\n",
       "      <td>b'I know somebody who wants to perhaps move to...</td>\n",
       "      <td>hate</td>\n",
       "    </tr>\n",
       "    <tr>\n",
       "      <th>27</th>\n",
       "      <td>27</td>\n",
       "      <td>b'When ever I see these white children murdere...</td>\n",
       "      <td>hate</td>\n",
       "    </tr>\n",
       "    <tr>\n",
       "      <th>35</th>\n",
       "      <td>35</td>\n",
       "      <td>b'They are no better than their daughters , th...</td>\n",
       "      <td>hate</td>\n",
       "    </tr>\n",
       "    <tr>\n",
       "      <th>54</th>\n",
       "      <td>54</td>\n",
       "      <td>b'Oh, yes they will skin us alive if given the...</td>\n",
       "      <td>hate</td>\n",
       "    </tr>\n",
       "    <tr>\n",
       "      <th>...</th>\n",
       "      <td>...</td>\n",
       "      <td>...</td>\n",
       "      <td>...</td>\n",
       "    </tr>\n",
       "    <tr>\n",
       "      <th>10639</th>\n",
       "      <td>10639</td>\n",
       "      <td>b\"A mud is a mud is a mud that 's all there is...</td>\n",
       "      <td>hate</td>\n",
       "    </tr>\n",
       "    <tr>\n",
       "      <th>10659</th>\n",
       "      <td>10659</td>\n",
       "      <td>b'I bet you can see the Mexic-ants from space ...</td>\n",
       "      <td>hate</td>\n",
       "    </tr>\n",
       "    <tr>\n",
       "      <th>10661</th>\n",
       "      <td>10661</td>\n",
       "      <td>b'Well they have got to be more aware then the...</td>\n",
       "      <td>hate</td>\n",
       "    </tr>\n",
       "    <tr>\n",
       "      <th>10671</th>\n",
       "      <td>10671</td>\n",
       "      <td>b\"We all know that when their are too many eth...</td>\n",
       "      <td>hate</td>\n",
       "    </tr>\n",
       "    <tr>\n",
       "      <th>10674</th>\n",
       "      <td>10674</td>\n",
       "      <td>b'I wonder if this guy still thinks the Jews a...</td>\n",
       "      <td>hate</td>\n",
       "    </tr>\n",
       "  </tbody>\n",
       "</table>\n",
       "<p>1196 rows × 3 columns</p>\n",
       "</div>"
      ],
      "text/plain": [
       "       Unnamed: 0                                              tweet class\n",
       "4               4  b\"It's weird most Indians dot and to an extent...  hate\n",
       "15             15  b'I know somebody who wants to perhaps move to...  hate\n",
       "27             27  b'When ever I see these white children murdere...  hate\n",
       "35             35  b'They are no better than their daughters , th...  hate\n",
       "54             54  b'Oh, yes they will skin us alive if given the...  hate\n",
       "...           ...                                                ...   ...\n",
       "10639       10639  b\"A mud is a mud is a mud that 's all there is...  hate\n",
       "10659       10659  b'I bet you can see the Mexic-ants from space ...  hate\n",
       "10661       10661  b'Well they have got to be more aware then the...  hate\n",
       "10671       10671  b\"We all know that when their are too many eth...  hate\n",
       "10674       10674  b'I wonder if this guy still thinks the Jews a...  hate\n",
       "\n",
       "[1196 rows x 3 columns]"
      ]
     },
     "execution_count": 449,
     "metadata": {},
     "output_type": "execute_result"
    }
   ],
   "source": [
    "# populate dataset with duplicate entries of hate speech \n",
    "additional_data = dataset[dataset[\"class\"]=='hate']\n",
    "additional_data"
   ]
  },
  {
   "cell_type": "code",
   "execution_count": 450,
   "metadata": {},
   "outputs": [],
   "source": [
    "additional_data = dataset[dataset[\"class\"]=='hate']\n",
    "additional_data = pd.DataFrame(np.repeat(additional_data.values, 8, axis=0), columns=[\"Unnamed: 0\", \"tweet\", \"class\"])\n",
    "dataset = pd.concat([dataset, additional_data], axis=0, ignore_index=True)\n",
    "dataset = dataset.sample(frac=1, ignore_index=True)"
   ]
  },
  {
   "cell_type": "code",
   "execution_count": 451,
   "metadata": {},
   "outputs": [
    {
     "data": {
      "text/plain": [
       "Unnamed: 0    0\n",
       "tweet         0\n",
       "class         0\n",
       "dtype: int64"
      ]
     },
     "execution_count": 451,
     "metadata": {},
     "output_type": "execute_result"
    }
   ],
   "source": [
    "dataset.isnull().sum()"
   ]
  },
  {
   "cell_type": "code",
   "execution_count": 452,
   "metadata": {},
   "outputs": [
    {
     "name": "stdout",
     "output_type": "stream",
     "text": [
      "<class 'pandas.core.frame.DataFrame'>\n",
      "RangeIndex: 20271 entries, 0 to 20270\n",
      "Data columns (total 3 columns):\n",
      " #   Column      Non-Null Count  Dtype \n",
      "---  ------      --------------  ----- \n",
      " 0   Unnamed: 0  20271 non-null  object\n",
      " 1   tweet       20271 non-null  object\n",
      " 2   class       20271 non-null  object\n",
      "dtypes: object(3)\n",
      "memory usage: 475.2+ KB\n"
     ]
    }
   ],
   "source": [
    "dataset.info()"
   ]
  },
  {
   "cell_type": "code",
   "execution_count": 453,
   "metadata": {},
   "outputs": [
    {
     "data": {
      "text/html": [
       "<div>\n",
       "<style scoped>\n",
       "    .dataframe tbody tr th:only-of-type {\n",
       "        vertical-align: middle;\n",
       "    }\n",
       "\n",
       "    .dataframe tbody tr th {\n",
       "        vertical-align: top;\n",
       "    }\n",
       "\n",
       "    .dataframe thead th {\n",
       "        text-align: right;\n",
       "    }\n",
       "</style>\n",
       "<table border=\"1\" class=\"dataframe\">\n",
       "  <thead>\n",
       "    <tr style=\"text-align: right;\">\n",
       "      <th></th>\n",
       "      <th>Unnamed: 0</th>\n",
       "      <th>tweet</th>\n",
       "      <th>class</th>\n",
       "    </tr>\n",
       "  </thead>\n",
       "  <tbody>\n",
       "    <tr>\n",
       "      <th>count</th>\n",
       "      <td>20271</td>\n",
       "      <td>20271</td>\n",
       "      <td>20271</td>\n",
       "    </tr>\n",
       "    <tr>\n",
       "      <th>unique</th>\n",
       "      <td>10703</td>\n",
       "      <td>10534</td>\n",
       "      <td>2</td>\n",
       "    </tr>\n",
       "    <tr>\n",
       "      <th>top</th>\n",
       "      <td>856</td>\n",
       "      <td>b\"Hell I 'd rather clean a dozen tiolets a day...</td>\n",
       "      <td>hate</td>\n",
       "    </tr>\n",
       "    <tr>\n",
       "      <th>freq</th>\n",
       "      <td>9</td>\n",
       "      <td>27</td>\n",
       "      <td>10764</td>\n",
       "    </tr>\n",
       "  </tbody>\n",
       "</table>\n",
       "</div>"
      ],
      "text/plain": [
       "        Unnamed: 0                                              tweet  class\n",
       "count        20271                                              20271  20271\n",
       "unique       10703                                              10534      2\n",
       "top            856  b\"Hell I 'd rather clean a dozen tiolets a day...   hate\n",
       "freq             9                                                 27  10764"
      ]
     },
     "execution_count": 453,
     "metadata": {},
     "output_type": "execute_result"
    }
   ],
   "source": [
    "dataset.describe()"
   ]
  },
  {
   "cell_type": "code",
   "execution_count": 454,
   "metadata": {},
   "outputs": [
    {
     "data": {
      "text/html": [
       "<div>\n",
       "<style scoped>\n",
       "    .dataframe tbody tr th:only-of-type {\n",
       "        vertical-align: middle;\n",
       "    }\n",
       "\n",
       "    .dataframe tbody tr th {\n",
       "        vertical-align: top;\n",
       "    }\n",
       "\n",
       "    .dataframe thead th {\n",
       "        text-align: right;\n",
       "    }\n",
       "</style>\n",
       "<table border=\"1\" class=\"dataframe\">\n",
       "  <thead>\n",
       "    <tr style=\"text-align: right;\">\n",
       "      <th></th>\n",
       "      <th>Unnamed: 0</th>\n",
       "      <th>tweet</th>\n",
       "      <th>class</th>\n",
       "      <th>labels</th>\n",
       "    </tr>\n",
       "  </thead>\n",
       "  <tbody>\n",
       "    <tr>\n",
       "      <th>0</th>\n",
       "      <td>856</td>\n",
       "      <td>b'They do it because they know it pisses the w...</td>\n",
       "      <td>hate</td>\n",
       "      <td>Hate Speech</td>\n",
       "    </tr>\n",
       "    <tr>\n",
       "      <th>1</th>\n",
       "      <td>6555</td>\n",
       "      <td>b'But what do you expect with a homosexual Mus...</td>\n",
       "      <td>hate</td>\n",
       "      <td>Hate Speech</td>\n",
       "    </tr>\n",
       "    <tr>\n",
       "      <th>2</th>\n",
       "      <td>8376</td>\n",
       "      <td>b\"http://www.wafb.com/Global/story.asp ? S = 1...</td>\n",
       "      <td>noHate</td>\n",
       "      <td>No hate language</td>\n",
       "    </tr>\n",
       "    <tr>\n",
       "      <th>3</th>\n",
       "      <td>9021</td>\n",
       "      <td>b\"Also I was born here so it is not easy to ``...</td>\n",
       "      <td>noHate</td>\n",
       "      <td>No hate language</td>\n",
       "    </tr>\n",
       "    <tr>\n",
       "      <th>4</th>\n",
       "      <td>858</td>\n",
       "      <td>b'I have a couple and get out on the 14th .'</td>\n",
       "      <td>noHate</td>\n",
       "      <td>No hate language</td>\n",
       "    </tr>\n",
       "    <tr>\n",
       "      <th>...</th>\n",
       "      <td>...</td>\n",
       "      <td>...</td>\n",
       "      <td>...</td>\n",
       "      <td>...</td>\n",
       "    </tr>\n",
       "    <tr>\n",
       "      <th>20266</th>\n",
       "      <td>3540</td>\n",
       "      <td>b\"Her forehead sticks out her eyes are small a...</td>\n",
       "      <td>noHate</td>\n",
       "      <td>No hate language</td>\n",
       "    </tr>\n",
       "    <tr>\n",
       "      <th>20267</th>\n",
       "      <td>8483</td>\n",
       "      <td>b'**** off bulgar turkic peice of * * * * and ...</td>\n",
       "      <td>hate</td>\n",
       "      <td>Hate Speech</td>\n",
       "    </tr>\n",
       "    <tr>\n",
       "      <th>20268</th>\n",
       "      <td>885</td>\n",
       "      <td>b'I guess I should have known that there are t...</td>\n",
       "      <td>noHate</td>\n",
       "      <td>No hate language</td>\n",
       "    </tr>\n",
       "    <tr>\n",
       "      <th>20269</th>\n",
       "      <td>8402</td>\n",
       "      <td>b\"If you search around you can probably find `...</td>\n",
       "      <td>hate</td>\n",
       "      <td>Hate Speech</td>\n",
       "    </tr>\n",
       "    <tr>\n",
       "      <th>20270</th>\n",
       "      <td>4934</td>\n",
       "      <td>b'Take a look at this blog , for example .'</td>\n",
       "      <td>noHate</td>\n",
       "      <td>No hate language</td>\n",
       "    </tr>\n",
       "  </tbody>\n",
       "</table>\n",
       "<p>20271 rows × 4 columns</p>\n",
       "</div>"
      ],
      "text/plain": [
       "      Unnamed: 0                                              tweet   class  \\\n",
       "0            856  b'They do it because they know it pisses the w...    hate   \n",
       "1           6555  b'But what do you expect with a homosexual Mus...    hate   \n",
       "2           8376  b\"http://www.wafb.com/Global/story.asp ? S = 1...  noHate   \n",
       "3           9021  b\"Also I was born here so it is not easy to ``...  noHate   \n",
       "4            858       b'I have a couple and get out on the 14th .'  noHate   \n",
       "...          ...                                                ...     ...   \n",
       "20266       3540  b\"Her forehead sticks out her eyes are small a...  noHate   \n",
       "20267       8483  b'**** off bulgar turkic peice of * * * * and ...    hate   \n",
       "20268        885  b'I guess I should have known that there are t...  noHate   \n",
       "20269       8402  b\"If you search around you can probably find `...    hate   \n",
       "20270       4934        b'Take a look at this blog , for example .'  noHate   \n",
       "\n",
       "                 labels  \n",
       "0           Hate Speech  \n",
       "1           Hate Speech  \n",
       "2      No hate language  \n",
       "3      No hate language  \n",
       "4      No hate language  \n",
       "...                 ...  \n",
       "20266  No hate language  \n",
       "20267       Hate Speech  \n",
       "20268  No hate language  \n",
       "20269       Hate Speech  \n",
       "20270  No hate language  \n",
       "\n",
       "[20271 rows x 4 columns]"
      ]
     },
     "execution_count": 454,
     "metadata": {},
     "output_type": "execute_result"
    }
   ],
   "source": [
    "dataset['labels'] = dataset['class'].map({'noHate': \"No hate language\",\n",
    "                                          'hate': \"Hate Speech\"})\n",
    "dataset"
   ]
  },
  {
   "cell_type": "code",
   "execution_count": 455,
   "metadata": {},
   "outputs": [
    {
     "data": {
      "text/html": [
       "<div>\n",
       "<style scoped>\n",
       "    .dataframe tbody tr th:only-of-type {\n",
       "        vertical-align: middle;\n",
       "    }\n",
       "\n",
       "    .dataframe tbody tr th {\n",
       "        vertical-align: top;\n",
       "    }\n",
       "\n",
       "    .dataframe thead th {\n",
       "        text-align: right;\n",
       "    }\n",
       "</style>\n",
       "<table border=\"1\" class=\"dataframe\">\n",
       "  <thead>\n",
       "    <tr style=\"text-align: right;\">\n",
       "      <th></th>\n",
       "      <th>tweet</th>\n",
       "      <th>labels</th>\n",
       "    </tr>\n",
       "  </thead>\n",
       "  <tbody>\n",
       "    <tr>\n",
       "      <th>0</th>\n",
       "      <td>b'They do it because they know it pisses the w...</td>\n",
       "      <td>Hate Speech</td>\n",
       "    </tr>\n",
       "    <tr>\n",
       "      <th>1</th>\n",
       "      <td>b'But what do you expect with a homosexual Mus...</td>\n",
       "      <td>Hate Speech</td>\n",
       "    </tr>\n",
       "    <tr>\n",
       "      <th>2</th>\n",
       "      <td>b\"http://www.wafb.com/Global/story.asp ? S = 1...</td>\n",
       "      <td>No hate language</td>\n",
       "    </tr>\n",
       "    <tr>\n",
       "      <th>3</th>\n",
       "      <td>b\"Also I was born here so it is not easy to ``...</td>\n",
       "      <td>No hate language</td>\n",
       "    </tr>\n",
       "    <tr>\n",
       "      <th>4</th>\n",
       "      <td>b'I have a couple and get out on the 14th .'</td>\n",
       "      <td>No hate language</td>\n",
       "    </tr>\n",
       "    <tr>\n",
       "      <th>...</th>\n",
       "      <td>...</td>\n",
       "      <td>...</td>\n",
       "    </tr>\n",
       "    <tr>\n",
       "      <th>20266</th>\n",
       "      <td>b\"Her forehead sticks out her eyes are small a...</td>\n",
       "      <td>No hate language</td>\n",
       "    </tr>\n",
       "    <tr>\n",
       "      <th>20267</th>\n",
       "      <td>b'**** off bulgar turkic peice of * * * * and ...</td>\n",
       "      <td>Hate Speech</td>\n",
       "    </tr>\n",
       "    <tr>\n",
       "      <th>20268</th>\n",
       "      <td>b'I guess I should have known that there are t...</td>\n",
       "      <td>No hate language</td>\n",
       "    </tr>\n",
       "    <tr>\n",
       "      <th>20269</th>\n",
       "      <td>b\"If you search around you can probably find `...</td>\n",
       "      <td>Hate Speech</td>\n",
       "    </tr>\n",
       "    <tr>\n",
       "      <th>20270</th>\n",
       "      <td>b'Take a look at this blog , for example .'</td>\n",
       "      <td>No hate language</td>\n",
       "    </tr>\n",
       "  </tbody>\n",
       "</table>\n",
       "<p>20271 rows × 2 columns</p>\n",
       "</div>"
      ],
      "text/plain": [
       "                                                   tweet            labels\n",
       "0      b'They do it because they know it pisses the w...       Hate Speech\n",
       "1      b'But what do you expect with a homosexual Mus...       Hate Speech\n",
       "2      b\"http://www.wafb.com/Global/story.asp ? S = 1...  No hate language\n",
       "3      b\"Also I was born here so it is not easy to ``...  No hate language\n",
       "4           b'I have a couple and get out on the 14th .'  No hate language\n",
       "...                                                  ...               ...\n",
       "20266  b\"Her forehead sticks out her eyes are small a...  No hate language\n",
       "20267  b'**** off bulgar turkic peice of * * * * and ...       Hate Speech\n",
       "20268  b'I guess I should have known that there are t...  No hate language\n",
       "20269  b\"If you search around you can probably find `...       Hate Speech\n",
       "20270        b'Take a look at this blog , for example .'  No hate language\n",
       "\n",
       "[20271 rows x 2 columns]"
      ]
     },
     "execution_count": 455,
     "metadata": {},
     "output_type": "execute_result"
    }
   ],
   "source": [
    "data = dataset[[\"tweet\", \"labels\"]]\n",
    "data"
   ]
  },
  {
   "cell_type": "code",
   "execution_count": 456,
   "metadata": {},
   "outputs": [],
   "source": [
    "import re\n",
    "import nltk\n",
    "# nltk.download('stopwords')\n",
    "import string"
   ]
  },
  {
   "cell_type": "code",
   "execution_count": 457,
   "metadata": {},
   "outputs": [],
   "source": [
    "# Removal of stop words and stemming of words\n",
    "from nltk.corpus import stopwords\n",
    "stpwords = set(stopwords.words(\"english\"))\n",
    "stemmer = nltk.SnowballStemmer(\"english\")"
   ]
  },
  {
   "cell_type": "code",
   "execution_count": 458,
   "metadata": {},
   "outputs": [],
   "source": [
    "# data cleaning\n",
    "def clean_data(text):\n",
    "    text = str(text).lower()\n",
    "    text = re.sub('https?://\\S+|www\\.S+', '', text) # replacing links\n",
    "    text = re.sub('\\[.*?\\]', '', text) # replacing any text in squre brackets\n",
    "    text = re.sub('<.*?>', '', text) # replacing any text in '<', '>'\n",
    "    text = re.sub('[%s]' %re.escape(string.punctuation), '', text)\n",
    "    text = re.sub('\\n', '', text)\n",
    "    text = re.sub('\\w*\\d\\w*', '', text)\n",
    "\n",
    "    # stop words removal\n",
    "    text = [word for word in text.split(\" \") if word not in stpwords]\n",
    "    text = \" \".join(text)\n",
    "\n",
    "    # stemming the text\n",
    "    text = [stemmer.stem(word) for word in text.split(' ')]\n",
    "    text = \" \".join(text)\n",
    "    return text"
   ]
  },
  {
   "cell_type": "code",
   "execution_count": 459,
   "metadata": {},
   "outputs": [
    {
     "name": "stderr",
     "output_type": "stream",
     "text": [
      "C:\\Users\\mihir\\AppData\\Local\\Temp\\ipykernel_31156\\1117457519.py:1: SettingWithCopyWarning: \n",
      "A value is trying to be set on a copy of a slice from a DataFrame.\n",
      "Try using .loc[row_indexer,col_indexer] = value instead\n",
      "\n",
      "See the caveats in the documentation: https://pandas.pydata.org/pandas-docs/stable/user_guide/indexing.html#returning-a-view-versus-a-copy\n",
      "  data[\"tweet\"] = data[\"tweet\"].apply(clean_data)\n"
     ]
    },
    {
     "data": {
      "text/html": [
       "<div>\n",
       "<style scoped>\n",
       "    .dataframe tbody tr th:only-of-type {\n",
       "        vertical-align: middle;\n",
       "    }\n",
       "\n",
       "    .dataframe tbody tr th {\n",
       "        vertical-align: top;\n",
       "    }\n",
       "\n",
       "    .dataframe thead th {\n",
       "        text-align: right;\n",
       "    }\n",
       "</style>\n",
       "<table border=\"1\" class=\"dataframe\">\n",
       "  <thead>\n",
       "    <tr style=\"text-align: right;\">\n",
       "      <th></th>\n",
       "      <th>tweet</th>\n",
       "      <th>labels</th>\n",
       "    </tr>\n",
       "  </thead>\n",
       "  <tbody>\n",
       "    <tr>\n",
       "      <th>0</th>\n",
       "      <td>bthey know piss white  show disrespect peopl s...</td>\n",
       "      <td>Hate Speech</td>\n",
       "    </tr>\n",
       "    <tr>\n",
       "      <th>1</th>\n",
       "      <td>bbut expect homosexu muslim mayor</td>\n",
       "      <td>Hate Speech</td>\n",
       "    </tr>\n",
       "    <tr>\n",
       "      <th>2</th>\n",
       "      <td>b    robinson alleg tri sell  piec artilleri  ...</td>\n",
       "      <td>No hate language</td>\n",
       "    </tr>\n",
       "    <tr>\n",
       "      <th>3</th>\n",
       "      <td>balso born easi  go back</td>\n",
       "      <td>No hate language</td>\n",
       "    </tr>\n",
       "    <tr>\n",
       "      <th>4</th>\n",
       "      <td>bi coupl get</td>\n",
       "      <td>No hate language</td>\n",
       "    </tr>\n",
       "    <tr>\n",
       "      <th>...</th>\n",
       "      <td>...</td>\n",
       "      <td>...</td>\n",
       "    </tr>\n",
       "    <tr>\n",
       "      <th>20266</th>\n",
       "      <td>bher forehead stick eye small close togeth nos...</td>\n",
       "      <td>No hate language</td>\n",
       "    </tr>\n",
       "    <tr>\n",
       "      <th>20267</th>\n",
       "      <td>b bulgar turkic peic         ustasha kosovo be...</td>\n",
       "      <td>Hate Speech</td>\n",
       "    </tr>\n",
       "    <tr>\n",
       "      <th>20268</th>\n",
       "      <td>bi guess known mani bleed heart liber nw get a...</td>\n",
       "      <td>No hate language</td>\n",
       "    </tr>\n",
       "    <tr>\n",
       "      <th>20269</th>\n",
       "      <td>bif search around probabl find  hoax  centuri ...</td>\n",
       "      <td>Hate Speech</td>\n",
       "    </tr>\n",
       "    <tr>\n",
       "      <th>20270</th>\n",
       "      <td>btake look blog  exampl</td>\n",
       "      <td>No hate language</td>\n",
       "    </tr>\n",
       "  </tbody>\n",
       "</table>\n",
       "<p>20271 rows × 2 columns</p>\n",
       "</div>"
      ],
      "text/plain": [
       "                                                   tweet            labels\n",
       "0      bthey know piss white  show disrespect peopl s...       Hate Speech\n",
       "1                     bbut expect homosexu muslim mayor        Hate Speech\n",
       "2      b    robinson alleg tri sell  piec artilleri  ...  No hate language\n",
       "3                             balso born easi  go back    No hate language\n",
       "4                                         bi coupl get    No hate language\n",
       "...                                                  ...               ...\n",
       "20266  bher forehead stick eye small close togeth nos...  No hate language\n",
       "20267  b bulgar turkic peic         ustasha kosovo be...       Hate Speech\n",
       "20268  bi guess known mani bleed heart liber nw get a...  No hate language\n",
       "20269  bif search around probabl find  hoax  centuri ...       Hate Speech\n",
       "20270                           btake look blog  exampl   No hate language\n",
       "\n",
       "[20271 rows x 2 columns]"
      ]
     },
     "execution_count": 459,
     "metadata": {},
     "output_type": "execute_result"
    }
   ],
   "source": [
    "data[\"tweet\"] = data[\"tweet\"].apply(clean_data)\n",
    "data"
   ]
  },
  {
   "cell_type": "code",
   "execution_count": 460,
   "metadata": {},
   "outputs": [
    {
     "data": {
      "text/plain": [
       "array(['bthey know piss white  show disrespect peopl show respect ',\n",
       "       'bbut expect homosexu muslim mayor ',\n",
       "       'b    robinson alleg tri sell  piec artilleri  hurle grew suspici call sheriff offic ',\n",
       "       ..., 'bi guess known mani bleed heart liber nw get answer thread ',\n",
       "       'bif search around probabl find  hoax  centuri  free net ',\n",
       "       'btake look blog  exampl '], dtype=object)"
      ]
     },
     "execution_count": 460,
     "metadata": {},
     "output_type": "execute_result"
    }
   ],
   "source": [
    "X = np.array(data[\"tweet\"])\n",
    "y = np.array(data[\"labels\"])\n",
    "X"
   ]
  },
  {
   "cell_type": "code",
   "execution_count": 461,
   "metadata": {},
   "outputs": [],
   "source": [
    "from sklearn.feature_extraction.text import CountVectorizer\n",
    "from sklearn.model_selection import train_test_split"
   ]
  },
  {
   "cell_type": "code",
   "execution_count": 462,
   "metadata": {},
   "outputs": [
    {
     "data": {
      "text/plain": [
       "<20271x12116 sparse matrix of type '<class 'numpy.int64'>'\n",
       "\twith 195213 stored elements in Compressed Sparse Row format>"
      ]
     },
     "execution_count": 462,
     "metadata": {},
     "output_type": "execute_result"
    }
   ],
   "source": [
    "cv = CountVectorizer()\n",
    "X = cv.fit_transform(X)\n",
    "X"
   ]
  },
  {
   "cell_type": "code",
   "execution_count": 463,
   "metadata": {},
   "outputs": [],
   "source": [
    "X_train, X_test, y_train, y_test = train_test_split(X, y, test_size=0.33, random_state=42)"
   ]
  },
  {
   "cell_type": "code",
   "execution_count": 464,
   "metadata": {},
   "outputs": [],
   "source": [
    "# Building the ML model\n",
    "from sklearn.tree import DecisionTreeClassifier\n",
    "\n",
    "dt = DecisionTreeClassifier()\n",
    "dt.fit(X_train, y_train)\n",
    "\n",
    "y_pred = dt.predict(X_test)"
   ]
  },
  {
   "cell_type": "code",
   "execution_count": 465,
   "metadata": {},
   "outputs": [
    {
     "data": {
      "text/plain": [
       "array([[3551,    0],\n",
       "       [ 374, 2765]], dtype=int64)"
      ]
     },
     "execution_count": 465,
     "metadata": {},
     "output_type": "execute_result"
    }
   ],
   "source": [
    "# confusion matrix and accuracy\n",
    "from sklearn.metrics import confusion_matrix, accuracy_score\n",
    "\n",
    "cm = confusion_matrix(y_test, y_pred)\n",
    "cm"
   ]
  },
  {
   "cell_type": "code",
   "execution_count": 466,
   "metadata": {},
   "outputs": [
    {
     "data": {
      "text/plain": [
       "0.9440956651718984"
      ]
     },
     "execution_count": 466,
     "metadata": {},
     "output_type": "execute_result"
    }
   ],
   "source": [
    "accuracy_score(y_test, y_pred)"
   ]
  },
  {
   "cell_type": "code",
   "execution_count": 467,
   "metadata": {},
   "outputs": [],
   "source": [
    "import seaborn as sns\n",
    "import matplotlib.pyplot as plt\n",
    "%matplotlib inline"
   ]
  },
  {
   "cell_type": "code",
   "execution_count": 468,
   "metadata": {},
   "outputs": [
    {
     "data": {
      "text/plain": [
       "<AxesSubplot:>"
      ]
     },
     "execution_count": 468,
     "metadata": {},
     "output_type": "execute_result"
    },
    {
     "data": {
      "image/png": "[encoded data removed]",
      "text/plain": [
       "<Figure size 432x288 with 2 Axes>"
      ]
     },
     "metadata": {
      "needs_background": "light"
     },
     "output_type": "display_data"
    }
   ],
   "source": [
    "sns.heatmap(cm, annot = True, fmt='.1f', cmap='YlGnBu')"
   ]
  },
  {
   "cell_type": "code",
   "execution_count": 475,
   "metadata": {},
   "outputs": [
    {
     "data": {
      "text/plain": [
       "'european men women murder black peopl'"
      ]
     },
     "execution_count": 475,
     "metadata": {},
     "output_type": "execute_result"
    }
   ],
   "source": [
    "# testing on a simple example\n",
    "sample = \"European men and women are murdered by black people\"\n",
    "sample = clean_data(sample)\n",
    "sample"
   ]
  },
  {
   "cell_type": "code",
   "execution_count": 476,
   "metadata": {},
   "outputs": [
    {
     "data": {
      "text/plain": [
       "array([[0, 0, 0, ..., 0, 0, 0]], dtype=int64)"
      ]
     },
     "execution_count": 476,
     "metadata": {},
     "output_type": "execute_result"
    }
   ],
   "source": [
    "data1 = cv.transform([sample]).toarray()\n",
    "data1"
   ]
  },
  {
   "cell_type": "code",
   "execution_count": 477,
   "metadata": {},
   "outputs": [
    {
     "data": {
      "text/plain": [
       "array(['Hate Speech'], dtype=object)"
      ]
     },
     "execution_count": 477,
     "metadata": {},
     "output_type": "execute_result"
    }
   ],
   "source": [
    "dt.predict(data1)"
   ]
  },
  {
   "cell_type": "code",
   "execution_count": null,
   "metadata": {},
   "outputs": [],
   "source": []
  }
 ],
 "metadata": {
  "kernelspec": {
   "display_name": "Python 3",
   "language": "python",
   "name": "python3"
  },
  "language_info": {
   "codemirror_mode": {
    "name": "ipython",
    "version": 3
   },
   "file_extension": ".py",
   "mimetype": "text/x-python",
   "name": "python",
   "nbconvert_exporter": "python",
   "pygments_lexer": "ipython3",
   "version": "3.9.13"
  }
 },
 "nbformat": 4,
 "nbformat_minor": 2
}
